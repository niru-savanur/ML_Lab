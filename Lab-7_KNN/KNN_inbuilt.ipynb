{
  "nbformat": 4,
  "nbformat_minor": 0,
  "metadata": {
    "colab": {
      "name": "KNN-inbuilt.ipynb",
      "provenance": [],
      "include_colab_link": true
    },
    "kernelspec": {
      "name": "python3",
      "display_name": "Python 3"
    },
    "language_info": {
      "name": "python"
    }
  },
  "cells": [
    {
      "cell_type": "markdown",
      "metadata": {
        "id": "view-in-github",
        "colab_type": "text"
      },
      "source": [
        "<a href=\"https://colab.research.google.com/github/KIRAN-MK-211/ML_B2_1BM19CS073_KIRAN_MK/blob/main/KNN/KNN_inbuilt.ipynb\" target=\"_parent\"><img src=\"https://colab.research.google.com/assets/colab-badge.svg\" alt=\"Open In Colab\"/></a>"
      ]
    },
    {
      "cell_type": "markdown",
      "source": [
        "#KIRAN M K\n",
        "#1BM19CS073\n",
        "#K-Nearest Neighbors"
      ],
      "metadata": {
        "id": "ehiGOqCJzZ8V"
      }
    },
    {
      "cell_type": "code",
      "metadata": {
        "id": "cJsGSd9gDuPR"
      },
      "source": [
        "from sklearn.model_selection import train_test_split\n",
        "from sklearn.neighbors import KNeighborsClassifier\n",
        "from sklearn.metrics import classification_report, confusion_matrix\n",
        "from sklearn import datasets"
      ],
      "execution_count": 1,
      "outputs": []
    },
    {
      "cell_type": "code",
      "metadata": {
        "id": "7TXDkzj6D5_T"
      },
      "source": [
        "iris = datasets.load_iris()\n",
        "X = iris.data\n",
        "Y = iris.target\n",
        "\n",
        "print('sepal-length','sepal-width','petal-length','petal-width')\n",
        "print(X)\n",
        "print('target')\n",
        "print(Y)"
      ],
      "execution_count": null,
      "outputs": []
    },
    {
      "cell_type": "code",
      "metadata": {
        "colab": {
          "base_uri": "https://localhost:8080/"
        },
        "id": "iCpX8YItD-iI",
        "outputId": "a976220b-4f71-4c79-8f59-95fe28f2f1e9"
      },
      "source": [
        "X_train, X_test, y_train, y_test = train_test_split(X, Y, test_size=0.33, random_state=42)\n",
        "\n",
        "#Training the model with Nearest nighbors K=3\n",
        "knn=KNeighborsClassifier(n_neighbors=3)\n",
        "knn.fit(X_train,y_train)"
      ],
      "execution_count": 4,
      "outputs": [
        {
          "output_type": "execute_result",
          "data": {
            "text/plain": [
              "KNeighborsClassifier(n_neighbors=3)"
            ]
          },
          "metadata": {},
          "execution_count": 4
        }
      ]
    },
    {
      "cell_type": "code",
      "metadata": {
        "colab": {
          "base_uri": "https://localhost:8080/"
        },
        "id": "xPRRdrX3ERmL",
        "outputId": "02e9a22d-5f3c-4d88-db9c-5c0a51f320c8"
      },
      "source": [
        "from sklearn.metrics import accuracy_score\n",
        "\n",
        "y_pred=knn.predict(X_test)\n",
        "matrix =confusion_matrix(y_test,y_pred) \n",
        "print(\" Confusion matrix:\\n\",matrix)\n",
        "print(\" Correct predicition\",accuracy_score(y_test,y_pred))\n",
        "print(\" Wrong predicition\",(1-accuracy_score(y_test,y_pred)))\n",
        "print(' Accuracy Metrics')\n",
        "print(classification_report(y_test,y_pred))"
      ],
      "execution_count": 5,
      "outputs": [
        {
          "output_type": "stream",
          "name": "stdout",
          "text": [
            " Confusion matrix:\n",
            " [[19  0  0]\n",
            " [ 0 15  0]\n",
            " [ 0  1 15]]\n",
            " Correct predicition 0.98\n",
            " Wrong predicition 0.020000000000000018\n",
            " Accuracy Metrics\n",
            "              precision    recall  f1-score   support\n",
            "\n",
            "           0       1.00      1.00      1.00        19\n",
            "           1       0.94      1.00      0.97        15\n",
            "           2       1.00      0.94      0.97        16\n",
            "\n",
            "    accuracy                           0.98        50\n",
            "   macro avg       0.98      0.98      0.98        50\n",
            "weighted avg       0.98      0.98      0.98        50\n",
            "\n"
          ]
        }
      ]
    },
    {
      "cell_type": "code",
      "source": [
        "from sklearn.metrics import ConfusionMatrixDisplay\n",
        "cm_plot = ConfusionMatrixDisplay(confusion_matrix = confusion_matrix(y_test, y_pred))"
      ],
      "metadata": {
        "id": "jvdyGv8xzBta"
      },
      "execution_count": 6,
      "outputs": []
    },
    {
      "cell_type": "code",
      "source": [
        "cm_plot.plot()"
      ],
      "metadata": {
        "colab": {
          "base_uri": "https://localhost:8080/",
          "height": 296
        },
        "id": "tp33W741zOfV",
        "outputId": "0aaf03d5-8970-4065-8f28-6f7eb1112a1d"
      },
      "execution_count": 9,
      "outputs": [
        {
          "output_type": "execute_result",
          "data": {
            "text/plain": [
              "<sklearn.metrics._plot.confusion_matrix.ConfusionMatrixDisplay at 0x7fe52487e990>"
            ]
          },
          "metadata": {},
          "execution_count": 9
        },
        {
          "output_type": "display_data",
          "data": {
            "text/plain": [
              "<Figure size 432x288 with 2 Axes>"
            ],
            "image/png": "[encoded data removed]"
          },
          "metadata": {
            "needs_background": "light"
          }
        }
      ]
    }
  ]
}