{
  "nbformat": 4,
  "nbformat_minor": 0,
  "metadata": {
    "colab": {
      "name": "findSusingInput.ipynb",
      "provenance": []
    },
    "kernelspec": {
      "name": "python3",
      "display_name": "Python 3"
    },
    "language_info": {
      "name": "python"
    }
  },
  "cells": [
    {
      "cell_type": "code",
      "execution_count": 1,
      "metadata": {
        "id": "j92_z1UBuYEO"
      },
      "outputs": [],
      "source": [
        "import numpy as np\n",
        "import pandas as pd"
      ]
    },
    {
      "cell_type": "code",
      "source": [
        "print(\"Enter features separated by space\")\n",
        "features = input().split()\n",
        "print(\"Features \", features)\n",
        "num_samples = int(input(\"enter number of samples: \"))"
      ],
      "metadata": {
        "colab": {
          "base_uri": "https://localhost:8080/"
        },
        "id": "cqfqcRHeuhiJ",
        "outputId": "435f7b1d-d081-409d-87fd-d79646d12837"
      },
      "execution_count": 2,
      "outputs": [
        {
          "name": "stdout",
          "output_type": "stream",
          "text": [
            "Enter features separated by space\n",
            "Time Weather Temperature Company Humidity Wind\n",
            "Features  ['Time', 'Weather', 'Temperature', 'Company', 'Humidity', 'Wind']\n",
            "enter number of samples: 4\n"
          ]
        }
      ]
    },
    {
      "cell_type": "code",
      "source": [
        "def findS():  \n",
        "    specific_hypothesis = [\"n\"]*len(features)  \n",
        "    for a in range(num_samples):\n",
        "        print(\"sample\", a)\n",
        "        \n",
        "        temp_features = input(\"Enter features: \").split()\n",
        "        target = input(\"Enter outcome: \")\n",
        "        if target == \"Yes\":\n",
        "            for x in range(len(specific_hypothesis)):\n",
        "                if specific_hypothesis[x] == \"n\":\n",
        "                    specific_hypothesis[x] = temp_features[x]\n",
        "                elif temp_features[x] != specific_hypothesis[x]:\n",
        "                    specific_hypothesis[x] = '?'\n",
        "        print(\"Specific hypothesis: \", specific_hypothesis)\n",
        "    return specific_hypothesis    "
      ],
      "metadata": {
        "id": "-dmU6Yb8urjn"
      },
      "execution_count": 11,
      "outputs": []
    },
    {
      "cell_type": "code",
      "source": [
        "print(\"\\n The final hypothesis is:\",findS())"
      ],
      "metadata": {
        "colab": {
          "base_uri": "https://localhost:8080/"
        },
        "id": "Ta1BcA71wbbo",
        "outputId": "298713b0-a1d5-49b5-a03f-655e0a54c474"
      },
      "execution_count": 12,
      "outputs": [
        {
          "output_type": "stream",
          "name": "stdout",
          "text": [
            "sample 0\n",
            "Enter features: Morning Sunny Warm Yes Mild Strong\n",
            "Enter outcome: Yes\n",
            "Specific hypothesis:  ['Morning', 'Sunny', 'Warm', 'Yes', 'Mild', 'Strong']\n",
            "sample 1\n",
            "Enter features: Evening Rainy Cold No Mild Normal\n",
            "Enter outcome: No\n",
            "Specific hypothesis:  ['Morning', 'Sunny', 'Warm', 'Yes', 'Mild', 'Strong']\n",
            "sample 2\n",
            "Enter features: Morning Sunny Moderate Yes Normal Normal\n",
            "Enter outcome: Yes\n",
            "Specific hypothesis:  ['Morning', 'Sunny', '?', 'Yes', '?', '?']\n",
            "sample 3\n",
            "Enter features: Evening Sunny Cold Yes High Strong\n",
            "Enter outcome: Yes\n",
            "Specific hypothesis:  ['?', 'Sunny', '?', 'Yes', '?', '?']\n",
            "\n",
            " The final hypothesis is: ['?', 'Sunny', '?', 'Yes', '?', '?']\n"
          ]
        }
      ]
    }
  ]
}